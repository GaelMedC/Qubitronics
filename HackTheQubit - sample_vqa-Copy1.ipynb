{
 "cells": [
  {
   "cell_type": "markdown",
   "id": "21f8b751",
   "metadata": {
    "id": "21f8b751"
   },
   "source": [
    "# (Opcional) Instalar librerías"
   ]
  },
  {
   "cell_type": "code",
   "execution_count": null,
   "id": "bd0202dd",
   "metadata": {
    "id": "bd0202dd"
   },
   "outputs": [],
   "source": [
    "!pip install numpy\n",
    "!pip install matplotlib\n",
    "!pip install qiskit"
   ]
  },
  {
   "cell_type": "markdown",
   "id": "840024e3",
   "metadata": {
    "id": "840024e3"
   },
   "source": [
    "# Importar paquetes"
   ]
  },
  {
   "cell_type": "code",
   "execution_count": 10,
   "id": "fd3a1ff3",
   "metadata": {
    "id": "fd3a1ff3"
   },
   "outputs": [],
   "source": [
    "import numpy as np\n",
    "import matplotlib.pyplot as plt\n",
    "from scipy.optimize import minimize\n",
    "\n",
    "from qiskit.circuit import ParameterVector\n",
    "from qiskit.quantum_info import SparsePauliOp\n",
    "from qiskit.primitives import StatevectorEstimator as Estimator\n",
    "from qiskit.circuit.library import EfficientSU2"
   ]
  },
  {
   "cell_type": "markdown",
   "id": "d187e6f3",
   "metadata": {
    "id": "d187e6f3"
   },
   "source": [
    "# Establecer VQA"
   ]
  },
  {
   "cell_type": "code",
   "execution_count": 32,
   "id": "bed1c32c",
   "metadata": {
    "id": "bed1c32c",
    "outputId": "5766fcc3-7701-4d56-ea3d-b50cdfa1d900"
   },
   "outputs": [
    {
     "name": "stderr",
     "output_type": "stream",
     "text": [
      "C:\\Users\\galel\\AppData\\Local\\Temp\\ipykernel_21252\\1274639303.py:8: DeprecationWarning: The class ``qiskit.circuit.library.n_local.efficient_su2.EfficientSU2`` is deprecated as of Qiskit 2.1. It will be removed in Qiskit 3.0. Use the function qiskit.circuit.library.efficient_su2 instead.\n",
      "  ansatz = EfficientSU2(n_qubits, su2_gates=['ry'], reps=n_layers, entanglement='full')\n"
     ]
    },
    {
     "data": {
      "image/png": "[encoded data removed]",
      "text/plain": [
       "<Figure size 370.906x200.667 with 1 Axes>"
      ]
     },
     "execution_count": 32,
     "metadata": {},
     "output_type": "execute_result"
    }
   ],
   "source": [
    "# Parámetros Globales\n",
    "n_qubits = 2\n",
    "n_layers = 1\n",
    "\n",
    "# ----------------------\n",
    "# Ansatz y parámetros\n",
    "# ----------------------\n",
    "ansatz = EfficientSU2(n_qubits, su2_gates=['ry'], reps=n_layers, entanglement='full')\n",
    "params = ParameterVector(\"theta\", ansatz.num_parameters)\n",
    "\n",
    "# ----------------------\n",
    "# Cost Function (Z⊗Z)\n",
    "# ----------------------\n",
    "observable = SparsePauliOp.from_list([(\"ZZ\", -1),\n",
    "                                      (\"XI\", -0.5),\n",
    "                                      (\"IX\", -0.5),])\n",
    "\n",
    "# Estimator\n",
    "estimator = Estimator()\n",
    "\n",
    "# Draw Circuit\n",
    "ansatz.decompose().draw(\"mpl\")"
   ]
  },
  {
   "cell_type": "markdown",
   "id": "d0050de2",
   "metadata": {
    "id": "d0050de2"
   },
   "source": [
    "# Entrenamiento"
   ]
  },
  {
   "cell_type": "code",
   "execution_count": 33,
   "id": "841ab51e",
   "metadata": {
    "id": "841ab51e"
   },
   "outputs": [
    {
     "data": {
      "text/plain": [
       " message: Optimization terminated successfully.\n",
       " success: True\n",
       "  status: 1\n",
       "     fun: -1.4142135558092863\n",
       "       x: [ 8.848e-01  4.180e-01  1.110e+00  9.593e-01]\n",
       "    nfev: 108\n",
       "   maxcv: 0.0"
      ]
     },
     "execution_count": 33,
     "metadata": {},
     "output_type": "execute_result"
    }
   ],
   "source": [
    "# -------------------------------\n",
    "# Modelo y entrenamiento manual\n",
    "# -------------------------------\n",
    "\n",
    "cost_hist = []\n",
    "def cost_func_vqe(params, ansatz, hamiltonian, estimator):\n",
    "    \"\"\"Return estimate of energy from estimator\n",
    "\n",
    "    Parameters:\n",
    "        params (ndarray): Array of ansatz parameters\n",
    "        ansatz (QuantumCircuit): Parameterized ansatz circuit\n",
    "        hamiltonian (SparsePauliOp): Operator representation of Hamiltonian\n",
    "        estimator (Estimator): Estimator primitive instance\n",
    "\n",
    "    Returns:\n",
    "        float: Energy estimate\n",
    "    \"\"\"\n",
    "    pub = (ansatz, hamiltonian, params)\n",
    "    cost = estimator.run([pub]).result()[0].data.evs\n",
    "    cost_hist.append(cost)\n",
    "    return cost\n",
    "\n",
    "x0 = np.ones(ansatz.num_parameters)\n",
    "\n",
    "opt_result = minimize(cost_func_vqe, x0, args=(ansatz, observable, estimator), method=\"COBYLA\")\n",
    "\n",
    "opt_result"
   ]
  },
  {
   "cell_type": "markdown",
   "id": "58a64840",
   "metadata": {
    "id": "58a64840"
   },
   "source": [
    "# Resultados"
   ]
  },
  {
   "cell_type": "code",
   "execution_count": 34,
   "id": "2afd34d3",
   "metadata": {
    "id": "2afd34d3",
    "outputId": "9d295351-0c1a-4de4-e81a-961e130d6caf"
   },
   "outputs": [
    {
     "data": {
      "text/plain": [
       "<matplotlib.legend.Legend at 0x1dacb2e5700>"
      ]
     },
     "execution_count": 34,
     "metadata": {},
     "output_type": "execute_result"
    },
    {
     "data": {
      "image/png": "[encoded data removed]",
      "text/plain": [
       "<Figure size 800x600 with 1 Axes>"
      ]
     },
     "metadata": {},
     "output_type": "display_data"
    }
   ],
   "source": [
    "# --------------------\n",
    "# Gráficas\n",
    "# --------------------\n",
    "plt.figure(figsize=(8, 6))\n",
    "plt.plot(cost_hist, label=\"Cost Function\")\n",
    "plt.xlabel(\"Iteration\")\n",
    "plt.ylabel(\"Cost\")\n",
    "plt.grid()\n",
    "plt.legend()"
   ]
  },
  {
   "cell_type": "code",
   "execution_count": null,
   "id": "1b19946d",
   "metadata": {
    "id": "1b19946d"
   },
   "outputs": [],
   "source": []
  }
 ],
 "metadata": {
  "colab": {
   "provenance": []
  },
  "kernelspec": {
   "display_name": "Python 3 (ipykernel)",
   "language": "python",
   "name": "python3"
  },
  "language_info": {
   "codemirror_mode": {
    "name": "ipython",
    "version": 3
   },
   "file_extension": ".py",
   "mimetype": "text/x-python",
   "name": "python",
   "nbconvert_exporter": "python",
   "pygments_lexer": "ipython3",
   "version": "3.12.3"
  }
 },
 "nbformat": 4,
 "nbformat_minor": 5
}
